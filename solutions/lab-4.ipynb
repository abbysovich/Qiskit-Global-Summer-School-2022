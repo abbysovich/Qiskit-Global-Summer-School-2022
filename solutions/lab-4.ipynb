{
 "cells": [
  {
   "cell_type": "markdown",
   "id": "0bf3eabf",
   "metadata": {},
   "source": [
    "# 1 Introduction\n",
    "\n",
    "### 1-1 Quantum Simulation\n",
    "One of the leading uses for quantum computers will be to simulate quantum systems such as molecules or engineered materials. Actually executing a quantum simulation on a current quantum computer, however, can be difficult and error prone. Your objective for this lab is to complete the exercises and then improve on them to get the highest state tomography score (more details in Section 2).\n",
    "\n",
    "The quantum system you will simulate is a quantum spin-1/2 model, where each qubit represents a quantum [spin-1/2](https://en.wikipedia.org/wiki/Spin-1/2) particle in a 1D chain. Quantum spin models have some amazing properties and uses. Computationally speaking, [certain optimization problems can be mapped](https://arxiv.org/pdf/1712.05771.pdf) to spin models and hence minimized on a quantum computer. Physically speaking, spin models show a variety of quantum behavior such as large entangled states, quantum phases of matter, quantum many-body affects, and many other open questions in physics research.\n",
    "\n",
    "There are many different spin models, but we will focus on the [$XXX$ Heisenberg spin model](https://en.wikipedia.org/wiki/Quantum_Heisenberg_model#XXX_model). Though it is not as well known as the [transverse-field Ising model](https://en.wikipedia.org/wiki/Transverse-field_Ising_model), the $XXX$ Heisenberg model is of practical and theoretical interest. It can also be difficult to simulate, which is where you come in.\n",
    "\n",
    "The notebook is organized as follows:\n",
    "1) Section 1 (labeled 1-X) provides you with brief introductions to the $XXX$ Heisenberg model, time evolving a Hamiltonian, and decomposing a time evolution operator into gates for a quantum computer to execute.\n",
    "2) Section 2 (labeled 2-X) outlines the specific requirements and boundaries associated with completing the exercises and competing for the best score. Completing the exercises will give you an example solution. Once you've completed the exercises, feel free to modify your answers to get the best score."
   ]
  },
  {
   "cell_type": "code",
   "execution_count": 1,
   "id": "37f6a35c",
   "metadata": {},
   "outputs": [],
   "source": [
    "import numpy as np\n",
    "import matplotlib.pyplot as plt\n",
    "plt.rcParams.update({'font.size': 16})  # enlarge matplotlib fonts\n",
    "\n",
    "# Import qubit states Zero (|0>) and One (|1>), Pauli operators (X, Y, Z), and the identity operator (I)\n",
    "from qiskit.opflow import Zero, One, X, Y, Z, I"
   ]
  },
  {
   "cell_type": "markdown",
   "id": "e31d5c52",
   "metadata": {},
   "source": [
    "### 1-2 The $XXX$ Heisenberg Spin Model\n",
    "\n",
    "To simulate a quantum system, we first need to define how the quantum particles that make up the system interact with each other. In quantum physics, this is done by defining a [Hamiltonian operator](https://en.wikipedia.org/wiki/Hamiltonian_(quantum_mechanics)). For this lab, you will work with the $XXX$ Heisenberg Hamiltonian $H_{\\text{Heis}}$ as defined below\n",
    "\n",
    "$$\n",
    "H_{\\text{Heis}} = \\sum_{\\langle ij \\rangle}^{N} J \\left(\\sigma_x^{(i)}\\sigma_x^{(j)} + \\sigma_y^{(i)}\\sigma_y^{(j)} + \\sigma_z^{(i)}\\sigma_z^{(j)}\\right).\n",
    "$$\n",
    "\n",
    "$N$ is the number of spin-1/2 particles in model. The operators $\\sigma_x$, $\\sigma_y$, and $\\sigma_z$ are [Pauli operators](https://en.wikipedia.org/wiki/Pauli_matrices) where the $i$ and $j$ superscripts label which qubit they act on. For example, $\\sigma_x^{(1)}$ would be the $\\sigma_x$ operator acting on only qubit 1 (which is the 2nd qubit since indexing starts at 0). This version of the general Heisenberg spin model is called $XXX$ because the same $J$ value multiplies each pair of Pauli operators. The sum notation $\\langle ij \\rangle$ means the sum is over nearest neighbors (only qubits next to each other interact), and $J$ is the interaction strength, which we will set $J=1$.\n",
    "\n",
    "You will work with the explicit case of $N=3$ with the 3 spins arranged in a line. Written out fully, the Hamiltonian is\n",
    "$$\n",
    "H_{\\text{Heis3}} = \\sigma_x^{(0)}\\sigma_x^{(1)} + \\sigma_x^{(1)}\\sigma_x^{(2)} + \\sigma_y^{(0)}\\sigma_y^{(1)} + \\sigma_y^{(1)}\\sigma_y^{(2)} + \\sigma_z^{(0)}\\sigma_z^{(1)} + \\sigma_z^{(1)}\\sigma_z^{(2)}.\n",
    "$$\n",
    "Now that we have a Hamiltonian ($H_{\\text{Heis3}}$), we can use it to determine how the quantum system of 3 spin-1/2 particles changes in time."
   ]
  },
  {
   "cell_type": "markdown",
   "id": "e155684f",
   "metadata": {},
   "source": [
    "### 1-3 Using OpFlow\n",
    "Qiskit offers [functionality for mathematically working with quantum states and operators](https://qiskit.org/documentation/apidoc/opflow.html) called ```opflow``` with tutorials found [here](https://qiskit.org/documentation/tutorials/operators/index.html). Opflow is especially convenient when dealing with large numbers of qubits as tensor products can become unwieldy when using numpy both in size and syntax. Your first exercise is to write the above Hamiltonian $H_{\\text{Heis3}}$ in opflow."
   ]
  },
  {
   "cell_type": "code",
   "execution_count": 2,
   "id": "62bfb818",
   "metadata": {},
   "outputs": [],
   "source": [
    "# Returns the XXX Heisenberg model for 3 spin-1/2 particles in a line\n",
    "def ex1_compute_H_heis3():\n",
    "    # FILL YOUR CODE IN HERE\n",
    "    H = (I^X^X) + (X^X^I) + (I^Y^Y) + (Y^Y^I) + (I^Z^Z) + (Z^Z^I)\n",
    "    # Return Hamiltonian\n",
    "    return H"
   ]
  },
  {
   "cell_type": "code",
   "execution_count": 3,
   "id": "347b2bf6",
   "metadata": {},
   "outputs": [],
   "source": [
    "# from qc_grader.challenges.qgss_2022 import grade_lab4_ex1\n",
    "\n",
    "# # The grading function is expecting a PauliSumOp operator\n",
    "# grade_lab4_ex1(ex1_compute_H_heis3())"
   ]
  },
  {
   "cell_type": "markdown",
   "id": "593a403e",
   "metadata": {},
   "source": [
    "### 1-4 Time Evolution\n",
    "\n",
    "Knowing the Hamiltonian, we can determine how quantum states of that system evolve in time by solving the [Schrödinger equation](https://en.wikipedia.org/wiki/Schrödinger_equation)\n",
    "$$\n",
    "i\\hbar \\dfrac{d}{dt}|\\psi(t)\\rangle = H |\\psi(t)\\rangle .\n",
    "$$\n",
    "\n",
    "For simplicity, let's set $\\hbar = 1$. We know that the Hamiltonian $H_{\\text{heis3}}$ does not change in time, so the solution to the Schrödinger equation is an exponential of the Hamiltonian operator\n",
    "$$\n",
    "\\begin{align}\n",
    "U_{\\text{Heis3}}(t) &= e^{-it H_\\text{Heis3}} = \\exp\\left(-it H_\\text{Heis3}\\right) \\\\\n",
    "U_{\\text{Heis3}}(t) &= \\exp\\left[-it \\sum_{\\langle ij \\rangle}^{N=3} \\left(\\sigma_x^{(i)}\\sigma_x^{(j)} + \\sigma_y^{(i)}\\sigma_y^{(j)} + \\sigma_z^{(i)}\\sigma_z^{(j)}\\right) \\right] \\\\\n",
    "U_{\\text{Heis3}}(t) &= \\exp\\left[-it \\left(\\sigma_x^{(0)}\\sigma_x^{(1)} + \\sigma_x^{(1)}\\sigma_x^{(2)} + \\sigma_y^{(0)}\\sigma_y^{(1)} + \\sigma_y^{(1)}\\sigma_y^{(2)} + \\sigma_z^{(0)}\\sigma_z^{(1)} + \\sigma_z^{(1)}\\sigma_z^{(2)}\\right) \\right]\n",
    "\\end{align}\n",
    "$$.\n",
    "\n",
    "Now that we have the time evolution operator $U_{\\text{Heis3}}(t)$, we can simulate changes in a state of the system ($|\\psi(t)\\rangle$) over time $|\\psi(t)\\rangle = U_{\\text{Heis3}}(t)|\\psi(t=0)\\rangle$.\n",
    "\n",
    "Using opflow methods again, your second exercise is to compute the unitary time evolution under the Hamiltonian you constructed from exercise 1 for a given time t."
   ]
  },
  {
   "cell_type": "code",
   "execution_count": 4,
   "id": "584b436a",
   "metadata": {},
   "outputs": [],
   "source": [
    "# Returns the time evolution operator U_heis3(t) for a given time t assuming an XXX Heisenberg Hamiltonian for 3 spins-1/2 particles in a line\n",
    "def ex2_compute_U_heis3(t):\n",
    "    # FILL YOUR CODE IN HERE\n",
    "    U = (t * ex1_compute_H_heis3()).exp_i()\n",
    "    return U"
   ]
  },
  {
   "cell_type": "code",
   "execution_count": 5,
   "id": "22add418",
   "metadata": {},
   "outputs": [],
   "source": [
    "# from qc_grader.challenges.qgss_2022 import grade_lab4_ex2\n",
    "\n",
    "# # The grading function is expecting a funtion that returns PauliSumOp operator\n",
    "# grade_lab4_ex2(ex2_compute_U_heis3)"
   ]
  },
  {
   "cell_type": "markdown",
   "id": "c9c671cf",
   "metadata": {},
   "source": [
    "### 1-5 Classical Simulation of $H_{\\text{Heis3}}$\n",
    "\n",
    "Now that we have the operator $U_{\\text{Heis3}}(t)$ which describes how any state of the quantum system changes in time, we can simulate the $XXX$ Heisenberg spin model! Just for fun, let's simulate the system using a classical computer first.\n",
    "\n",
    "(Fun fact: Notice the size of $U_{\\text{Heis3}}(t)$ in matrix form. It's represented by an $8$x$8$ matrix. This is because there are $2^3=8$ states in the $N=3$ system. If the simulation were of $50$ particles ($N=50$), $U_{\\text{Heis}}(t)$ would be approximately $10^{15}$x$10^{15}$! Well beyond the capacity of today's computers.)"
   ]
  },
  {
   "cell_type": "code",
   "execution_count": 6,
   "id": "bf8cd735",
   "metadata": {},
   "outputs": [
    {
     "data": {
      "image/png": "[encoded data removed]",
      "text/plain": [
       "<Figure size 432x288 with 1 Axes>"
      ]
     },
     "metadata": {
      "needs_background": "light"
     },
     "output_type": "display_data"
    }
   ],
   "source": [
    "# Define array of time points\n",
    "ts = np.linspace(0, np.pi, 100)\n",
    "\n",
    "# Define initial state |110>\n",
    "initial_state = One^One^Zero\n",
    "\n",
    "# Compute probability of remaining in |110> state over the array of time points\n",
    " # ~initial_state gives the bra of the initial state (<110|)\n",
    " # @ is short hand for matrix multiplication\n",
    " # ex2_compute_U_heis3(t) is the unitary time evolution at time t\n",
    " # t needs to be wrapped with float(t) to avoid a bug\n",
    " # (...).eval() returns the inner product <110|ex2_compute_U_heis3(t)|110>\n",
    " #  np.abs(...)**2 is the modulus squared of the innner product which is the expectation value, or probability, of remaining in |110>\n",
    "probs_110 = [np.abs((~initial_state @ ex2_compute_U_heis3(float(t)) @ initial_state).eval())**2 for t in ts]\n",
    "\n",
    "# Plot evolution of |110>\n",
    "plt.plot(ts, probs_110, linewidth=2)\n",
    "plt.xlabel('time')\n",
    "plt.ylabel(r'probability of state $|110\\rangle$')\n",
    "plt.title(r'Evolution of state $|110\\rangle$ under $H_{Heis3}$')\n",
    "plt.ylim([-0.05,1.05])\n",
    "plt.grid()\n",
    "plt.show()"
   ]
  },
  {
   "cell_type": "markdown",
   "id": "a7c3897b",
   "metadata": {},
   "source": [
    "### 1-6 Decomposition of $U_{\\text{Heis3}}(t)$ Into Quantum Gates\n",
    "\n",
    "To execute $U_{\\text{Heis3}}(t)$ on a [circuit model](https://qiskit.org/documentation/apidoc/circuit.html) quantum computer, we must decompose $U_{\\text{Heis3}}(t)$ into a product of single and two-qubit gates that are native to that quantum computer. There are a [variety of techniques](https://en.wikipedia.org/wiki/Hamiltonian_simulation) to do this. For this lab, you will only use [Trotterization](https://en.wikipedia.org/wiki/Hamiltonian_simulation#Product_Formulas) (which is sometimes referred to as the Suzuki-Trotterization decomposition, Trotter formulas, product formulas, and other names).\n",
    "\n",
    "Below, we show an example Trotterization as outlined in \\[1-2\\].\n",
    "\n",
    "Since the [Pauli operators do not commute](https://en.wikipedia.org/wiki/Pauli_matrices#Commutation_relations) with each other, the exponential $U_{\\text{Heis3}}(t)$ cannot be split into a product of simpler exponentials. However, we can approximate $U_{\\text{Heis3}}(t)$ as a product of simpler exponentials through Trotterization. Consider a subsystem of 2 spin-1/2 particles within the larger 3 spin system. The Hamiltonian on spins $i$ and $j$ ($i,j \\in \\{0,1,2\\}$) would be $H^{(i,j)}_{\\text{Heis2}} = \\sigma_x^{(i)}\\sigma_x^{(j)} + \\sigma_y^{(i)}\\sigma_y^{(j)} + \\sigma_z^{(i)}\\sigma_z^{(j)}$. Rewriting $U_{\\text{Heis3}}(t)$ in terms of the two possible subsystems within the total $N=3$ system you will simulate,\n",
    "\n",
    "$$\n",
    "U_{\\text{Heis3}}(t) = \\exp\\left[-i t \\left(H^{(0,1)}_{\\text{Heis2}} + H^{(1,2)}_{\\text{Heis2}} \\right)\\right].\n",
    "$$\n",
    "\n",
    "$H^{(0,1)}_{\\text{Heis2}}$ and $H^{(1,2)}_{\\text{Heis2}}$ do not commute, so $U_{\\text{Heis3}}(t) \\neq \\exp\\left(-i t H^{(0,1)}_{\\text{Heis2}}\\right) \\exp\\left(-i t H^{(1,2)}_{\\text{Heis2}} \\right)$. But, this product decomposition can be approximated with Trotterization which says $U_{\\text{Heis3}}(t)$ is approximately a short evolution of $H^{(0,1)}_{\\text{Heis2}}$ (time = $t/n$) and followed by a short evolution of $H^{(1,2)}_{\\text{Heis2}}$ (time = $t/n$) repeated $n$ times\n",
    "\n",
    "$$\n",
    "\\begin{align}\n",
    "U_{\\text{Heis3}}(t) &= \\exp\\left[-i t \\left(H^{(0,1)}_{\\text{Heis2}} + H^{(1,2)}_{\\text{Heis2}} \\right)\\right] \\\\\n",
    "U_{\\text{Heis3}}(t) &\\approx \\left[\\exp\\left(\\dfrac{-it}{n}H^{(0,1)}_{\\text{Heis2}}\\right) \\exp\\left(\\dfrac{-it}{n}H^{(1,2)}_{\\text{Heis2}} \\right)\\right]^n.\n",
    "\\end{align}\n",
    "$$\n",
    "\n",
    "$n$ is the number of Trotter steps, and as $n$ increases, the approximation becomes more accurate. (Note that how a unitary is split up into subsystems for Trotterization is not necessarily unique.) The decomposition goes further. Within each 2 spin subsystems, the Pauli operator pairs ($\\sigma_x^{(i)}\\sigma_x^{(j)}$, $\\sigma_y^{(i)}\\sigma_y^{(j)}$, and $\\sigma_z^{(i)}\\sigma_z^{(j)}$) commute. This means we can decompose the exponential of a subsystem Hamiltonian ($H^{(i,j)}_{\\text{Heis2}}$) into a product of even simpler exponentials getting us closer to a gate implementation of $U_{\\text{Heis3}}(t)$\n",
    "\n",
    "$$\n",
    "\\begin{align}\n",
    "U_{\\text{Heis3}}(t) &\\approx \\left[\\exp\\left(\\dfrac{-it}{n}H^{(0,1)}_{\\text{Heis2}}\\right) \\exp\\left(\\dfrac{-it}{n}H^{(1,2)}_{\\text{Heis2}} \\right)\\right]^n \\\\\n",
    "U_{\\text{Heis3}}(t) &\\approx \\left[\\exp\\left(\\dfrac{-it}{n}\\left(\\sigma_x^{(0)}\\sigma_x^{(1)} + \\sigma_y^{(0)}\\sigma_y^{(1)} + \\sigma_z^{(0)}\\sigma_z^{(1)}\\right)\\right) \\exp\\left(\\dfrac{-it}{n}\\left(\\sigma_x^{(1)}\\sigma_x^{(2)} + \\sigma_y^{(1)}\\sigma_y^{(2)} + \\sigma_z^{(1)}\\sigma_z^{(2)}\\right)\\right)\\right]^{n} \\\\\n",
    "U_{\\text{Heis3}}(t) &\\approx \\left[\\exp\\left(\\dfrac{-it}{n}\\sigma_x^{(0)}\\sigma_x^{(1)}\\right) \\exp\\left(\\dfrac{-it}{n}\\sigma_y^{(0)}\\sigma_y^{(1)}\\right) \\exp\\left(\\dfrac{-it}{n}\\sigma_z^{(0)}\\sigma_z^{(1)}\\right) \\exp\\left(\\dfrac{-it}{n}\\sigma_x^{(1)}\\sigma_x^{(2)}\\right) \\exp\\left(\\dfrac{-it}{n}\\sigma_y^{(1)}\\sigma_y^{(2)}\\right) \\exp\\left(\\dfrac{-it}{n}\\sigma_z^{(1)}\\sigma_z^{(2)}\\right)\\right]^{n}\n",
    "\\end{align}\n",
    "$$\n",
    "\n",
    "For simplicity, and to use more common notation, let's rename the products with $XX(2t) = \\exp\\left(-it \\sigma_x\\sigma_x\\right)$, $YY(2t) = \\exp\\left(-it \\sigma_y\\sigma_y\\right)$, and $ZZ(2t) = \\exp\\left(-it \\sigma_z\\sigma_z\\right)$ and rewrite the Trotterized $U_{\\text{Heis3}}(t)$\n",
    "$$\n",
    "U_{\\text{Heis3}}(t) \\approx \\left[XX\\left(\\frac{2t}{n}\\right)^{(0,1)} YY\\left(\\frac{2t}{n}\\right)^{(0,1)} ZZ\\left(\\frac{2t}{n}\\right)^{(0,1)} XX\\left(\\frac{2t}{n}\\right)^{(1,2)} YY\\left(\\frac{2t}{n}\\right)^{(1,2)} ZZ\\left(\\frac{2t}{n}\\right)^{(1,2)} \\right]^{n}\n",
    "$$\n",
    "And that's it! We have now approximately decomposed $U_{\\text{Heis3}}(t)$ into two-qubit gates $XX(t)$, $YY(t)$, and $ZZ(t)$. Note that these gates are not native to superconducting qubits, but in Section 2, they will be further decomposed into native single and two-qubit gates.\n",
    "\n",
    "\n",
    "\\[1\\] Y. Salathe, et al., *Digital Quantum Simulation of Spin Models with Circuit Quantum Electrodynamics*, [Phys. Rev. X **5**, 021027 (2015)](https://link.aps.org/doi/10.1103/PhysRevX.5.021027)\n",
    "\n",
    "\\[2\\] F. Tacchino, et al., *Quantum Computers as Universal Quantum Simulators: State-of-the-Art and Perspectives*, [Adv. Quantum Technol. *3* 3 (2020)](https://doi.org/10.1002/qute.201900052) \\[[free arXiv version](https://arxiv.org/abs/1907.03505)\\]\n"
   ]
  },
  {
   "cell_type": "markdown",
   "id": "f4d56a31",
   "metadata": {},
   "source": [
    "# 2 Contest: Optimal Time Evolution\n",
    "### 2-1 Contest Details\n",
    "For this lab, we will have a fun, no pressure contest to get the best quantum simulation. Below is an outline of contest guidelines.\n",
    "\n",
    "You are to time evolve the state $|110\\rangle$ to time $t=\\pi$ under the $XXX$ Heisenberg model Hamiltonian $H_{\\text{heis3}}$ as defined in Section 1. This will be done on the ibmq_manila quantum computer and noisy simulator. The qubits in the state $|110\\rangle$ could correspond to any three qubits of ibmq_manila. The evolution must be done using Trotterization with at least 4 steps ($n\\geq 4$). You will compete based on the fidelity of the evolved state at time $t=\\pi$ using [state tomography](https://qiskit.org/documentation/tutorials/noise/8_tomography.html). State tomography is a way of determining the exact quantum state--even phase information--at the end of a quantum circuit by running the circuit multiple times and measuring in different bases. The closer your final quantum state to the expected state, the higher the fidelity. As you work on your solution, other important elements to consider are clarity of your code and how many different techniques you can learn and bring together. This is a great time to practice a variety of skills. Ibmq_manila's remaining two qubits will not be evaluated by the state tomography calculation, so you may use them as you wish. You do not need to follow the same decomposition given in the example above, but your solution must be a Trotterization of $U_{\\text{heis3}}(t)$ with at least 4 steps ($n\\geq 4$). You will find it useful to implement ideas and techniques you learned during this summer school that reduce errors and improve qubit coherence."
   ]
  },
  {
   "cell_type": "markdown",
   "id": "673e3e2a",
   "metadata": {},
   "source": [
    "### 2-2 Import Qiskit\n",
    "\n",
    "Feel free to import packages as needed. However, please keep to free packages and those obtained through ```pip install``` or ```conda install```."
   ]
  },
  {
   "cell_type": "code",
   "execution_count": 7,
   "id": "6e0c1942",
   "metadata": {},
   "outputs": [
    {
     "name": "stdout",
     "output_type": "stream",
     "text": [
      "Requirement already satisfied: qiskit.ignis in /Users/abhayagarwal/anaconda3/envs/tflow/lib/python3.7/site-packages (0.5.1)\n",
      "Requirement already satisfied: setuptools>=40.1.0 in /Users/abhayagarwal/anaconda3/envs/tflow/lib/python3.7/site-packages (from qiskit.ignis) (52.0.0.post20210125)\n",
      "Requirement already satisfied: scipy!=0.19.1,>=0.19 in /Users/abhayagarwal/anaconda3/envs/tflow/lib/python3.7/site-packages (from qiskit.ignis) (1.6.0)\n",
      "Requirement already satisfied: qiskit-terra>=0.13.0 in /Users/abhayagarwal/anaconda3/envs/tflow/lib/python3.7/site-packages (from qiskit.ignis) (0.21.0)\n",
      "Requirement already satisfied: numpy>=1.13 in /Users/abhayagarwal/anaconda3/envs/tflow/lib/python3.7/site-packages (from qiskit.ignis) (1.19.2)\n",
      "Requirement already satisfied: scikit-learn>=0.17 in /Users/abhayagarwal/anaconda3/envs/tflow/lib/python3.7/site-packages (from qiskit.ignis) (0.23.2)\n",
      "Requirement already satisfied: symengine>=0.9 in /Users/abhayagarwal/anaconda3/envs/tflow/lib/python3.7/site-packages (from qiskit-terra>=0.13.0->qiskit.ignis) (0.9.2)\n",
      "Requirement already satisfied: psutil>=5 in /Users/abhayagarwal/anaconda3/envs/tflow/lib/python3.7/site-packages (from qiskit-terra>=0.13.0->qiskit.ignis) (5.7.3)\n",
      "Requirement already satisfied: ply>=3.10 in /Users/abhayagarwal/anaconda3/envs/tflow/lib/python3.7/site-packages (from qiskit-terra>=0.13.0->qiskit.ignis) (3.11)\n",
      "Requirement already satisfied: dill>=0.3 in /Users/abhayagarwal/anaconda3/envs/tflow/lib/python3.7/site-packages (from qiskit-terra>=0.13.0->qiskit.ignis) (0.3.3)\n",
      "Requirement already satisfied: tweedledum<2.0,>=1.1 in /Users/abhayagarwal/anaconda3/envs/tflow/lib/python3.7/site-packages (from qiskit-terra>=0.13.0->qiskit.ignis) (1.1.1)\n",
      "Requirement already satisfied: retworkx>=0.11.0 in /Users/abhayagarwal/anaconda3/envs/tflow/lib/python3.7/site-packages (from qiskit-terra>=0.13.0->qiskit.ignis) (0.11.0)\n",
      "Requirement already satisfied: shared-memory38 in /Users/abhayagarwal/anaconda3/envs/tflow/lib/python3.7/site-packages (from qiskit-terra>=0.13.0->qiskit.ignis) (0.1.2)\n",
      "Requirement already satisfied: python-dateutil>=2.8.0 in /Users/abhayagarwal/anaconda3/envs/tflow/lib/python3.7/site-packages (from qiskit-terra>=0.13.0->qiskit.ignis) (2.8.1)\n",
      "Requirement already satisfied: typing-extensions in /Users/abhayagarwal/anaconda3/envs/tflow/lib/python3.7/site-packages (from qiskit-terra>=0.13.0->qiskit.ignis) (3.7.4.3)\n",
      "Requirement already satisfied: stevedore>=3.0.0 in /Users/abhayagarwal/anaconda3/envs/tflow/lib/python3.7/site-packages (from qiskit-terra>=0.13.0->qiskit.ignis) (3.5.0)\n",
      "Requirement already satisfied: sympy>=1.3 in /Users/abhayagarwal/anaconda3/envs/tflow/lib/python3.7/site-packages (from qiskit-terra>=0.13.0->qiskit.ignis) (1.6.2)\n",
      "Requirement already satisfied: six>=1.5 in /Users/abhayagarwal/anaconda3/envs/tflow/lib/python3.7/site-packages (from python-dateutil>=2.8.0->qiskit-terra>=0.13.0->qiskit.ignis) (1.15.0)\n",
      "Requirement already satisfied: threadpoolctl>=2.0.0 in /Users/abhayagarwal/anaconda3/envs/tflow/lib/python3.7/site-packages (from scikit-learn>=0.17->qiskit.ignis) (2.1.0)\n",
      "Requirement already satisfied: joblib>=0.11 in /Users/abhayagarwal/anaconda3/envs/tflow/lib/python3.7/site-packages (from scikit-learn>=0.17->qiskit.ignis) (1.0.1)\n",
      "Requirement already satisfied: pbr!=2.1.0,>=2.0.0 in /Users/abhayagarwal/anaconda3/envs/tflow/lib/python3.7/site-packages (from stevedore>=3.0.0->qiskit-terra>=0.13.0->qiskit.ignis) (5.9.0)\n",
      "Requirement already satisfied: importlib-metadata>=1.7.0 in /Users/abhayagarwal/anaconda3/envs/tflow/lib/python3.7/site-packages (from stevedore>=3.0.0->qiskit-terra>=0.13.0->qiskit.ignis) (3.10.0)\n",
      "Requirement already satisfied: zipp>=0.5 in /Users/abhayagarwal/anaconda3/envs/tflow/lib/python3.7/site-packages (from importlib-metadata>=1.7.0->stevedore>=3.0.0->qiskit-terra>=0.13.0->qiskit.ignis) (3.4.1)\n",
      "Requirement already satisfied: mpmath>=0.19 in /Users/abhayagarwal/anaconda3/envs/tflow/lib/python3.7/site-packages (from sympy>=1.3->qiskit-terra>=0.13.0->qiskit.ignis) (1.2.1)\n"
     ]
    }
   ],
   "source": [
    "# Importing standard Qiskit modules\n",
    "from qiskit import QuantumCircuit, QuantumRegister, IBMQ, execute, transpile\n",
    "from qiskit.providers.aer import QasmSimulator\n",
    "from qiskit.tools.monitor import job_monitor\n",
    "from qiskit.circuit import Parameter\n",
    "\n",
    "# Import state tomography modules\n",
    "!pip install qiskit.ignis\n",
    "from qiskit.ignis.verification.tomography import state_tomography_circuits, StateTomographyFitter\n",
    "from qiskit.quantum_info import state_fidelity"
   ]
  },
  {
   "cell_type": "markdown",
   "id": "d4ab97de",
   "metadata": {},
   "source": [
    "### 2-3 Quantum Devices\n",
    "Connect to IBM provider and connect to a real or simulated backend. Final submissions must be run on a real backend, but simulated devices are faster for debugging and testing."
   ]
  },
  {
   "cell_type": "code",
   "execution_count": 8,
   "id": "b43048c2",
   "metadata": {},
   "outputs": [],
   "source": [
    "# load IBMQ Account data\n",
    "\n",
    "# IBMQ.save_account(TOKEN)  # replace TOKEN with your API token string (https://quantum-computing.ibm.com/lab/docs/iql/manage/account/ibmq)\n",
    "IBMQ.save_account('ccebef28567b6f99ddb4a6f2a830fd80bf1731cfc43a802f4710f3725ecb3886133e4a779093d5c314ebeb9fd49058c95a51a9e6522a64f60cbfd50684291267', overwrite=True)\n",
    "provider = IBMQ.load_account()"
   ]
  },
  {
   "cell_type": "code",
   "execution_count": 9,
   "id": "0c457918",
   "metadata": {},
   "outputs": [],
   "source": [
    "# Get backend for experiment\n",
    "provider = IBMQ.get_provider(hub='ibm-q')\n",
    "manila = provider.get_backend('ibmq_manila')\n",
    "# properties = manila.properties()\n",
    "\n",
    "# Simulated backend based on ibmq_manila's device noise profile\n",
    "sim_noisy_manila = QasmSimulator.from_backend(provider.get_backend('ibmq_manila'))\n",
    "\n",
    "# Noiseless simulated backend\n",
    "sim = QasmSimulator()"
   ]
  },
  {
   "cell_type": "markdown",
   "id": "dc28b799",
   "metadata": {},
   "source": [
    "### 2-4 Decomposition of $U_{\\text{Heis3}}(t)$ into Quantum Gates (Example)\n",
    "\n",
    "The following circuit code is written based on the example given in Section 1. This is where you write your solution.\n",
    "\n",
    "YOUR TROTTERIZATION GOES HERE -- START (beginning of example)"
   ]
  },
  {
   "cell_type": "code",
   "execution_count": 10,
   "id": "81679f58",
   "metadata": {},
   "outputs": [],
   "source": [
    "# Parameterize variable t to be evaluated at t=pi later\n",
    "t = Parameter('t')"
   ]
  },
  {
   "cell_type": "code",
   "execution_count": 11,
   "id": "2ad69abd",
   "metadata": {},
   "outputs": [],
   "source": [
    "# Build a subcircuit for XX(t) two-qubit gate\n",
    "def compute_XX_gate(t):\n",
    "    XX_qr = QuantumRegister(2)\n",
    "    XX_qc = QuantumCircuit(XX_qr, name='XX')\n",
    "\n",
    "    XX_qc.ry(np.pi/2,[0,1])\n",
    "    XX_qc.cnot(0,1)\n",
    "    XX_qc.rz(2 * t, 1)\n",
    "    XX_qc.cnot(0,1)\n",
    "    XX_qc.ry(-np.pi/2,[0,1])\n",
    "\n",
    "    # Convert custom quantum circuit into a gate\n",
    "    XX = XX_qc.to_instruction()\n",
    "    \n",
    "    return XX"
   ]
  },
  {
   "cell_type": "code",
   "execution_count": 12,
   "id": "027c0ace",
   "metadata": {},
   "outputs": [],
   "source": [
    "# Build a subcircuit for YY(t) two-qubit gate\n",
    "def ex3_compute_YY_gate(t):\n",
    "    # FILL YOUR CODE IN HERE\n",
    "    YY_qr = QuantumRegister(2)\n",
    "    YY_qc = QuantumCircuit(YY_qr, name='YY')\n",
    "    \n",
    "    YY_qc.rz(-np.pi/2, [0, 1])\n",
    "    # YY_qc.ry(-np.pi/2, [0,1])\n",
    "    # YY_qc.ry(np.pi/2, [0, 1])\n",
    "    YY_qc.h([0, 1])\n",
    "    YY_qc.cx(0, 1)\n",
    "    YY_qc.rz(2 * t, 1)\n",
    "    YY_qc.cx(0, 1)\n",
    "    # YY_qc.ry(-np.pi/2, [0, 1])\n",
    "    YY_qc.h([0, 1])\n",
    "    YY_qc.rz(np.pi/2, [0, 1])\n",
    "    # YY_qc.ry(np.pi/2, [0,1])\n",
    "    \n",
    "    YY = YY_qc.to_instruction()\n",
    "    return YY"
   ]
  },
  {
   "cell_type": "code",
   "execution_count": 13,
   "id": "2b946cd7",
   "metadata": {},
   "outputs": [],
   "source": [
    "# from qc_grader.challenges.qgss_2022 import grade_lab4_ex3\n",
    "\n",
    "# # The grading function is expecting an Instruction\n",
    "# grade_lab4_ex3(ex3_compute_YY_gate(t))"
   ]
  },
  {
   "cell_type": "code",
   "execution_count": 14,
   "id": "92818adb",
   "metadata": {},
   "outputs": [],
   "source": [
    "# Build a subcircuit for ZZ(t) two-qubit gate\n",
    "def ex4_compute_ZZ_gate(t):\n",
    "    # FILL YOUR CODE IN HERE\n",
    "    ZZ_qr = QuantumRegister(2)\n",
    "    ZZ_qc = QuantumCircuit(ZZ_qr, name='ZZ')\n",
    "    \n",
    "    ZZ_qc.cx(0, 1)\n",
    "    ZZ_qc.rz(2 * t, 1)\n",
    "    ZZ_qc.cx(0, 1)\n",
    "    \n",
    "    ZZ = ZZ_qc.to_instruction()\n",
    "    \n",
    "    return ZZ"
   ]
  },
  {
   "cell_type": "code",
   "execution_count": 15,
   "id": "aa4e43ef",
   "metadata": {},
   "outputs": [],
   "source": [
    "# from qc_grader.challenges.qgss_2022 import grade_lab4_ex4\n",
    "\n",
    "# # The grading function is expecting an Instruction\n",
    "# grade_lab4_ex4(ex4_compute_ZZ_gate(t))"
   ]
  },
  {
   "cell_type": "markdown",
   "id": "08d09087",
   "metadata": {},
   "source": [
    "Combine subcircuits into single gate representing one ($n=1$) trotter step."
   ]
  },
  {
   "cell_type": "code",
   "execution_count": 16,
   "id": "27d11c04",
   "metadata": {},
   "outputs": [],
   "source": [
    "# Combine subcircuits into a single multiqubit gate representing a single trotter step\n",
    "num_qubits = 3\n",
    "\n",
    "# Define two-qubit interactions Parameterized by t\n",
    "XX = compute_XX_gate(t)\n",
    "YY = ex3_compute_YY_gate(t)\n",
    "ZZ = ex4_compute_ZZ_gate(t)\n",
    "\n",
    "Trot_qr = QuantumRegister(num_qubits)\n",
    "Trot_qc = QuantumCircuit(Trot_qr, name='Trot')\n",
    "\n",
    "for i in range(0, num_qubits - 1):\n",
    "    Trot_qc.append(ZZ, [Trot_qr[i], Trot_qr[i+1]])\n",
    "    Trot_qc.append(YY, [Trot_qr[i], Trot_qr[i+1]])\n",
    "    Trot_qc.append(XX, [Trot_qr[i], Trot_qr[i+1]])\n",
    "\n",
    "# Convert custom quantum circuit into a gate\n",
    "Trot_gate = Trot_qc.to_instruction()"
   ]
  },
  {
   "cell_type": "markdown",
   "id": "d64bacad",
   "metadata": {},
   "source": [
    "YOUR TROTTERIZATION GOES HERE -- FINISH (end of example)\n",
    "\n",
    "### 2-5 Trotterized Time Evolution\n",
    "\n",
    "Time evolve the state $|110\\rangle$ from $\\theta=0$ to $\\theta=\\pi$ under $H_{\\text{heis3}}$. Although manila has five qubits, only three of the qubits will be used for the state $|110\\rangle$. From left to right, the qubits in the state $|110\\rangle$ could correspond to any of the five qubits. State tomography will evaluate how well the quantum simulation matches to the expected state at $\\theta= \\pi$. (Note the two remaining qubits will not part of the state tomography calculation.)\n",
    "\n",
    "You choose how many trotter steps (```trotter_steps```) to take in the simulation, but it must be at least 4. The code below is written to be generic enough for you may add to it if necessary for your solution."
   ]
  },
  {
   "cell_type": "code",
   "execution_count": 17,
   "id": "e9e57f2e",
   "metadata": {},
   "outputs": [],
   "source": [
    "# Setup experiment parameters\n",
    "\n",
    "# The final time of the state evolution\n",
    "target_time = np.pi  # DO NOT MODIFY\n",
    "\n",
    "# Number of trotter steps\n",
    "trotter_steps = 8  ### CAN BE >= 4\n",
    "\n",
    "# Select which qubits to use for the simulation\n",
    "q_regs = [0,1,2]"
   ]
  },
  {
   "cell_type": "code",
   "execution_count": 18,
   "id": "f5aa5ef0",
   "metadata": {},
   "outputs": [
    {
     "data": {
      "text/html": [
       "<pre style=\"word-wrap: normal;white-space: pre;background: #fff0;line-height: 1.1;font-family: &quot;Courier New&quot;,Courier,monospace\">           ┌────────────┐┌────────────┐┌────────────┐┌────────────┐»\n",
       "q4_0: ─────┤0           ├┤0           ├┤0           ├┤0           ├»\n",
       "      ┌───┐│            ││            ││            ││            │»\n",
       "q4_1: ┤ X ├┤1 Trot(π/8) ├┤1 Trot(π/8) ├┤1 Trot(π/8) ├┤1 Trot(π/8) ├»\n",
       "      ├───┤│            ││            ││            ││            │»\n",
       "q4_2: ┤ X ├┤2           ├┤2           ├┤2           ├┤2           ├»\n",
       "      └───┘└────────────┘└────────────┘└────────────┘└────────────┘»\n",
       "q4_3: ─────────────────────────────────────────────────────────────»\n",
       "                                                                   »\n",
       "q4_4: ─────────────────────────────────────────────────────────────»\n",
       "                                                                   »\n",
       "c0: 3/═════════════════════════════════════════════════════════════»\n",
       "                                                                   »\n",
       "«      ┌────────────┐┌────────────┐┌────────────┐┌────────────┐ ░ ┌─┐      \n",
       "«q4_0: ┤0           ├┤0           ├┤0           ├┤0           ├─░─┤M├──────\n",
       "«      │            ││            ││            ││            │ ░ └╥┘┌─┐   \n",
       "«q4_1: ┤1 Trot(π/8) ├┤1 Trot(π/8) ├┤1 Trot(π/8) ├┤1 Trot(π/8) ├─░──╫─┤M├───\n",
       "«      │            ││            ││            ││            │ ░  ║ └╥┘┌─┐\n",
       "«q4_2: ┤2           ├┤2           ├┤2           ├┤2           ├─░──╫──╫─┤M├\n",
       "«      └────────────┘└────────────┘└────────────┘└────────────┘ ░  ║  ║ └╥┘\n",
       "«q4_3: ─────────────────────────────────────────────────────────░──╫──╫──╫─\n",
       "«                                                               ░  ║  ║  ║ \n",
       "«q4_4: ─────────────────────────────────────────────────────────░──╫──╫──╫─\n",
       "«                                                               ░  ║  ║  ║ \n",
       "«c0: 3/════════════════════════════════════════════════════════════╩══╩══╩═\n",
       "«                                                                  0  1  2 </pre>"
      ],
      "text/plain": [
       "           ┌────────────┐┌────────────┐┌────────────┐┌────────────┐»\n",
       "q4_0: ─────┤0           ├┤0           ├┤0           ├┤0           ├»\n",
       "      ┌───┐│            ││            ││            ││            │»\n",
       "q4_1: ┤ X ├┤1 Trot(π/8) ├┤1 Trot(π/8) ├┤1 Trot(π/8) ├┤1 Trot(π/8) ├»\n",
       "      ├───┤│            ││            ││            ││            │»\n",
       "q4_2: ┤ X ├┤2           ├┤2           ├┤2           ├┤2           ├»\n",
       "      └───┘└────────────┘└────────────┘└────────────┘└────────────┘»\n",
       "q4_3: ─────────────────────────────────────────────────────────────»\n",
       "                                                                   »\n",
       "q4_4: ─────────────────────────────────────────────────────────────»\n",
       "                                                                   »\n",
       "c0: 3/═════════════════════════════════════════════════════════════»\n",
       "                                                                   »\n",
       "«      ┌────────────┐┌────────────┐┌────────────┐┌────────────┐ ░ ┌─┐      \n",
       "«q4_0: ┤0           ├┤0           ├┤0           ├┤0           ├─░─┤M├──────\n",
       "«      │            ││            ││            ││            │ ░ └╥┘┌─┐   \n",
       "«q4_1: ┤1 Trot(π/8) ├┤1 Trot(π/8) ├┤1 Trot(π/8) ├┤1 Trot(π/8) ├─░──╫─┤M├───\n",
       "«      │            ││            ││            ││            │ ░  ║ └╥┘┌─┐\n",
       "«q4_2: ┤2           ├┤2           ├┤2           ├┤2           ├─░──╫──╫─┤M├\n",
       "«      └────────────┘└────────────┘└────────────┘└────────────┘ ░  ║  ║ └╥┘\n",
       "«q4_3: ─────────────────────────────────────────────────────────░──╫──╫──╫─\n",
       "«                                                               ░  ║  ║  ║ \n",
       "«q4_4: ─────────────────────────────────────────────────────────░──╫──╫──╫─\n",
       "«                                                               ░  ║  ║  ║ \n",
       "«c0: 3/════════════════════════════════════════════════════════════╩══╩══╩═\n",
       "«                                                                  0  1  2 "
      ]
     },
     "execution_count": 18,
     "metadata": {},
     "output_type": "execute_result"
    }
   ],
   "source": [
    "# Initialize quantum circuit for 3 qubits\n",
    "qr = QuantumRegister(5)\n",
    "qc = QuantumCircuit(qr)\n",
    "\n",
    "# Prepare initial state (remember we are only evolving 3 of the 7 qubits on manila qubits (q_5, q_3, q_1) corresponding to the state |110>)\n",
    "qc.x([q_regs[2], q_regs[1]])  # For example this could be (q_regs=[2, 1, 0] which corresponds to => |110>)\n",
    "\n",
    "# Simulate time evolution under H_heis3 Hamiltonian\n",
    "for _ in range(trotter_steps):\n",
    "    qc.append(Trot_gate, q_regs)\n",
    "\n",
    "# Evaluate simulation at target_time (t=pi) meaning each trotter step evolves pi/trotter_steps in time\n",
    "qc = qc.bind_parameters({t: target_time/trotter_steps})\n",
    "\n",
    "# Generate state tomography circuits to evaluate fidelity of simulation\n",
    "st_qcs = state_tomography_circuits(qc, q_regs)\n",
    "\n",
    "# Display circuit for confirmation\n",
    "# st_qcs[-1].decompose().draw()  # view decomposition of trotter gates\n",
    "st_qcs[-1].draw()  # only view trotter gates"
   ]
  },
  {
   "cell_type": "markdown",
   "id": "8b630f40",
   "metadata": {},
   "source": [
    "### 2-6 Execute\n",
    "For your final submission, you will need to execute your solution on a real backend with four repetitions. For faster debugging, considering using a simulated backend and/or 1 repetition."
   ]
  },
  {
   "cell_type": "code",
   "execution_count": 19,
   "id": "afaff373",
   "metadata": {
    "tags": []
   },
   "outputs": [],
   "source": [
    "shots = 8192\n",
    "reps = 8\n",
    "\n",
    "# Pick the simulated or real backend for manila\n",
    "backend1 = sim  # Noiseless simulator\n",
    "backend2 = sim_noisy_manila  # Simulator that mimics ibmq_manila\n",
    "backend3 = manila  # The real manila backend\n",
    "backends = [backend1, backend2]\n",
    "\n",
    "def setup_jobs(backend):\n",
    "    jobs = []\n",
    "    print('\\n', str(backend),'\\n')\n",
    "    for i in range(reps):\n",
    "        # Execute\n",
    "        job = execute(st_qcs, backend, shots=shots)\n",
    "        print(str(i+1) + '. Job IDL', job.job_id())\n",
    "        jobs.append(job)\n",
    "        job_monitor(job)\n",
    "        \n",
    "        # if i == reps - 1:\n",
    "        #     print('Waiting for current set of jobs to finish')\n",
    "        #     job_monitor(job)\n",
    "            \n",
    "    return jobs\n",
    "\n",
    "# all_jobs = [setup_jobs(backend) for backend in backends]"
   ]
  },
  {
   "cell_type": "markdown",
   "id": "e5ea7842",
   "metadata": {},
   "source": [
    "We can monitor the status of the jobs using Qiskit's job monitoring tools."
   ]
  },
  {
   "cell_type": "code",
   "execution_count": 20,
   "id": "932887d7",
   "metadata": {},
   "outputs": [],
   "source": [
    "# for i in range(len(backends)):\n",
    "#     print('Backend: ', str(backends[i]))\n",
    "#     for job in all_jobs[i]:\n",
    "#         job_monitor(job)\n",
    "#         try:\n",
    "#             if job.error_message() is not None:\n",
    "#                 print(job.error_message())\n",
    "#         except:\n",
    "#             pass"
   ]
  },
  {
   "cell_type": "markdown",
   "id": "0fc85c47",
   "metadata": {},
   "source": [
    "### 2-7 Results Analysis\n",
    "Extract the results for the completed jobs and compute the state tomography fidelity for each repetition. You may choose to include other post-processing analyses here as well."
   ]
  },
  {
   "cell_type": "code",
   "execution_count": 21,
   "id": "c02354d8",
   "metadata": {},
   "outputs": [
    {
     "ename": "NameError",
     "evalue": "name 'all_jobs' is not defined",
     "output_type": "error",
     "traceback": [
      "\u001b[0;31m---------------------------------------------------------------------------\u001b[0m",
      "\u001b[0;31mNameError\u001b[0m                                 Traceback (most recent call last)",
      "\u001b[0;32m<ipython-input-21-15b58845910e>\u001b[0m in \u001b[0;36m<module>\u001b[0;34m\u001b[0m\n\u001b[1;32m     18\u001b[0m     \u001b[0;32mreturn\u001b[0m \u001b[0mfids\u001b[0m\u001b[0;34m\u001b[0m\u001b[0;34m\u001b[0m\u001b[0m\n\u001b[1;32m     19\u001b[0m \u001b[0;34m\u001b[0m\u001b[0m\n\u001b[0;32m---> 20\u001b[0;31m \u001b[0mfids1\u001b[0m \u001b[0;34m=\u001b[0m \u001b[0mget_fids\u001b[0m\u001b[0;34m(\u001b[0m\u001b[0mall_jobs\u001b[0m\u001b[0;34m[\u001b[0m\u001b[0;36m0\u001b[0m\u001b[0;34m]\u001b[0m\u001b[0;34m)\u001b[0m\u001b[0;34m\u001b[0m\u001b[0;34m\u001b[0m\u001b[0m\n\u001b[0m\u001b[1;32m     21\u001b[0m \u001b[0mfids2\u001b[0m \u001b[0;34m=\u001b[0m \u001b[0mget_fids\u001b[0m\u001b[0;34m(\u001b[0m\u001b[0mall_jobs\u001b[0m\u001b[0;34m[\u001b[0m\u001b[0;36m1\u001b[0m\u001b[0;34m]\u001b[0m\u001b[0;34m)\u001b[0m\u001b[0;34m\u001b[0m\u001b[0;34m\u001b[0m\u001b[0m\n\u001b[1;32m     22\u001b[0m \u001b[0;31m# fids3 = get_fids(all_jobs[2])\u001b[0m\u001b[0;34m\u001b[0m\u001b[0;34m\u001b[0m\u001b[0;34m\u001b[0m\u001b[0m\n",
      "\u001b[0;31mNameError\u001b[0m: name 'all_jobs' is not defined"
     ]
    }
   ],
   "source": [
    "# Compute the state tomography based on the st_qcs quantum circuits and the results from those ciricuits\n",
    "def state_tomo(result, st_qcs):\n",
    "    # The expected final state; necessary to determine state tomography fidelity\n",
    "    target_state = (One^One^Zero).to_matrix()  # DO NOT MODIFY\n",
    "    # Fit state tomography results\n",
    "    tomo_fitter = StateTomographyFitter(result, st_qcs)\n",
    "    rho_fit = tomo_fitter.fit(method='lstsq')\n",
    "    # Compute fidelity\n",
    "    fid = state_fidelity(rho_fit, target_state)\n",
    "    return fid\n",
    "\n",
    "# Compute tomography fidelities for each repetition\n",
    "def get_fids(jobs_list):\n",
    "    fids = []\n",
    "    for job in jobs_list:\n",
    "        fid = state_tomo(job.result(), st_qcs)\n",
    "        fids.append(fid)\n",
    "    return fids\n",
    "\n",
    "fids1 = get_fids(all_jobs[0])\n",
    "fids2 = get_fids(all_jobs[1])\n",
    "# fids3 = get_fids(all_jobs[2])\n",
    "    \n",
    "# Share tomography fidelity of discord to compete and collaborate with other students\n",
    "print('state tomography fidelity on ' + str(backend1) + ' = {:.4f} \\u00B1 {:.4f}'.format(np.mean(fids1), np.std(fids1)))\n",
    "print('state tomography fidelity on ' + str(backend2) + ' = {:.4f} \\u00B1 {:.4f}'.format(np.mean(fids2), np.std(fids2)))\n",
    "# print('state tomography fidelity on ' + str(backend3) + ' = {:.4f} \\u00B1 {:.4f}'.format(np.mean(fids3), np.std(fids3)))\n",
    "# Share what lectures and techniques were useful in optimizing your results\n",
    "print('Inspiration: Measurement error mitigation, Olivia Lanes\\'s 2nd lecture')"
   ]
  },
  {
   "cell_type": "code",
   "execution_count": null,
   "id": "63a2a90c",
   "metadata": {},
   "outputs": [],
   "source": [
    "import qiskit.tools.jupyter\n",
    "%qiskit_version_table"
   ]
  },
  {
   "cell_type": "code",
   "execution_count": 23,
   "id": "a1f40928",
   "metadata": {},
   "outputs": [
    {
     "name": "stdout",
     "output_type": "stream",
     "text": [
      "\n",
      " qasm_simulator \n",
      "\n",
      "1. Job IDL 0c7503c5-26e7-430e-85ac-3ccd8781b186\n",
      "Job Status: job has successfully run\n",
      "2. Job IDL 552686ea-4ff5-4d3a-aba8-49ecfe07ef12\n",
      "Job Status: job has successfully run\n",
      "3. Job IDL 3543b0a0-3f09-44cb-90c3-d3da885c291a\n",
      "Job Status: job has successfully run\n",
      "4. Job IDL 26a3f778-7b2b-4930-b3b6-4f463653757e\n",
      "Job Status: job has successfully run\n",
      "5. Job IDL 9a3c8b52-2bc2-4887-a8c2-971c40f50897\n",
      "Job Status: job has successfully run\n",
      "6. Job IDL 2a0fab3e-3e5c-45bf-8c34-845d972d7680\n",
      "Job Status: job has successfully run\n",
      "7. Job IDL 0480ac7a-5fe4-40d9-9d5e-41c78439e1ce\n",
      "Job Status: job has successfully run\n",
      "8. Job IDL fb7b0442-b845-4597-be90-ce03252c614e\n",
      "Job Status: job has successfully run\n",
      "\n",
      " qasm_simulator(ibmq_manila) \n",
      "\n",
      "1. Job IDL e89a24d7-d47c-4d58-a105-e4857b5fadd8\n",
      "Job Status: job has successfully run\n",
      "2. Job IDL 34410c7b-35b1-4ea1-8b4d-720270da44ef\n",
      "Job Status: job has successfully run\n",
      "3. Job IDL 352d52a7-a19e-4983-8597-c3400dc72950\n",
      "Job Status: job has successfully run\n",
      "4. Job IDL 8dbf5071-5308-433f-8c13-cb00798b197e\n",
      "Job Status: job has successfully run\n",
      "5. Job IDL 2dadd3aa-bb2a-4b81-8093-c23babaedc8f\n",
      "Job Status: job has successfully run\n",
      "6. Job IDL 45300416-7158-4ecf-bd5c-38785b5508aa\n",
      "Job Status: job has successfully run\n",
      "7. Job IDL 8591c309-c237-41f5-802a-93ca688265da\n",
      "Job Status: job has successfully run\n",
      "8. Job IDL a94bc5cd-3fb5-4302-984b-e6b7db683619\n",
      "Job Status: job has successfully run\n",
      "\n",
      " qasm_simulator \n",
      "\n",
      "1. Job IDL 9500ae2c-20c6-4e84-a3a3-f8343db944ad\n",
      "Job Status: job has successfully run\n",
      "2. Job IDL 71ba2cff-7dfc-47d7-a19c-0419184f1de4\n",
      "Job Status: job has successfully run\n",
      "3. Job IDL f844fc77-891c-4bcf-b826-145c9557d51b\n",
      "Job Status: job has successfully run\n",
      "4. Job IDL 03834422-7c3d-4716-aae0-e16475d57ed3\n",
      "Job Status: job has successfully run\n",
      "5. Job IDL ac02b769-b5f7-45e8-b909-4e68248e8544\n",
      "Job Status: job has successfully run\n",
      "6. Job IDL 224b2ccf-b262-4afd-bd14-e8cc65a35a90\n",
      "Job Status: job has successfully run\n",
      "7. Job IDL 13916488-9488-4474-b8fa-8b7cf6a5918a\n",
      "Job Status: job has successfully run\n",
      "8. Job IDL 2a772abc-06be-40fc-9987-31585d3ce999\n",
      "Job Status: job has successfully run\n",
      "\n",
      " qasm_simulator(ibmq_manila) \n",
      "\n",
      "1. Job IDL a418e60e-54ec-452b-aa6f-23d2a9fe303d\n",
      "Job Status: job has successfully run\n",
      "2. Job IDL a8fafbe4-0664-47e5-bc39-2dd8dbd14550\n",
      "Job Status: job has successfully run\n",
      "3. Job IDL 68129366-040f-41e0-8f98-7ccdbda864a9\n",
      "Job Status: job has successfully run\n",
      "4. Job IDL 290f2897-108e-4241-8ff8-c93d6cd49663\n",
      "Job Status: job has successfully run\n",
      "5. Job IDL cf6a993d-10dd-4e55-abd8-9e73a8e9639b\n",
      "Job Status: job has successfully run\n",
      "6. Job IDL a16d3a3c-c40f-40d6-a5e9-35157bc31fc9\n",
      "Job Status: job has successfully run\n",
      "7. Job IDL d68e0401-39d3-4fe1-8cc3-0ac3b255407d\n",
      "Job Status: job has successfully run\n",
      "8. Job IDL b75f3782-74f6-4a15-bd1a-bea0cc396eaa\n",
      "Job Status: job has successfully run\n",
      "\n",
      " qasm_simulator \n",
      "\n",
      "1. Job IDL d8f484dc-750b-466e-8b79-ad363b8dfc6d\n",
      "Job Status: job has successfully run\n",
      "2. Job IDL 3df88d47-f7e5-4835-82df-50d11a4a4234\n",
      "Job Status: job has successfully run\n",
      "3. Job IDL d2936ad8-a973-4027-8e2d-0d9fe67a1590\n",
      "Job Status: job has successfully run\n",
      "4. Job IDL 709eca87-f2da-4026-8db0-a61eaf513feb\n",
      "Job Status: job has successfully run\n",
      "5. Job IDL c980d063-1c27-4056-a206-9739174e5ac5\n",
      "Job Status: job has successfully run\n",
      "6. Job IDL f9eaf5e9-f10c-4168-bc49-e1abd0ff404c\n",
      "Job Status: job has successfully run\n",
      "7. Job IDL a812db2f-6edf-4c7d-ada5-5334e581e06b\n",
      "Job Status: job has successfully run\n",
      "8. Job IDL 1499a22b-0fe5-4aa2-a1a7-714133806e2b\n",
      "Job Status: job has successfully run\n",
      "\n",
      " qasm_simulator(ibmq_manila) \n",
      "\n",
      "1. Job IDL 4b2e091b-f221-4d80-bea6-3e48d6194e39\n",
      "Job Status: job has successfully run\n",
      "2. Job IDL a4f96778-2c46-4fe7-8ed0-37db1afed7b6\n",
      "Job Status: job has successfully run\n",
      "3. Job IDL 0c43d41e-802b-4c88-8a4d-e669d3a43f8d\n",
      "Job Status: job has successfully run\n",
      "4. Job IDL 8f531bcc-8d06-4634-9fdf-10c13fe2ab90\n",
      "Job Status: job has successfully run\n",
      "5. Job IDL b8ad526b-5b19-461f-a758-ef3de3e0e662\n",
      "Job Status: job has successfully run\n",
      "6. Job IDL 8d46da76-a70b-45de-b392-a088ab8dd61a\n",
      "Job Status: job has successfully run\n",
      "7. Job IDL 3b375539-2d18-4521-a610-b5efe8724996\n",
      "Job Status: job has successfully run\n",
      "8. Job IDL 5ec6e163-49cb-4e83-968e-f0c9608874e3\n",
      "Job Status: job has successfully run\n",
      "\n",
      " qasm_simulator \n",
      "\n",
      "1. Job IDL 5b1082e8-9631-4372-b36e-b623307416ab\n",
      "Job Status: job has successfully run\n",
      "2. Job IDL 2be3e207-16a7-46ce-b9cf-4d7902aaace6\n",
      "Job Status: job has successfully run\n",
      "3. Job IDL 73c3447c-0e94-47f6-85b7-c21038c07927\n",
      "Job Status: job has successfully run\n",
      "4. Job IDL 28641ff7-8e3f-4e3c-9c00-adacb0c5687c\n",
      "Job Status: job has successfully run\n",
      "5. Job IDL 31f57694-446d-4aaa-b43a-35eb6c3e73d0\n",
      "Job Status: job has successfully run\n",
      "6. Job IDL 014be3f8-91bd-4010-8d01-2b73667b98c3\n",
      "Job Status: job has successfully run\n",
      "7. Job IDL 526680e2-d2c2-493d-97e1-d7b7419b66cf\n",
      "Job Status: job has successfully run\n",
      "8. Job IDL 8d870fe0-20df-4b68-8982-ee28a5ee628b\n",
      "Job Status: job has successfully run\n",
      "\n",
      " qasm_simulator(ibmq_manila) \n",
      "\n",
      "1. Job IDL 0fd974ef-3efd-411d-bbc3-63cad1a5c2d5\n",
      "Job Status: job has successfully run\n",
      "2. Job IDL 372e01fe-e834-41e7-83c0-6eec4e0f923c\n",
      "Job Status: job has successfully run\n",
      "3. Job IDL 87653f69-eaf3-4cc6-9ce3-8c4050082ca7\n",
      "Job Status: job has successfully run\n",
      "4. Job IDL b4061fc3-1eba-43e4-a593-890714447929\n",
      "Job Status: job has successfully run\n",
      "5. Job IDL 596cbb3f-087b-403b-9203-b2330d9abc5c\n",
      "Job Status: job has successfully run\n",
      "6. Job IDL 2b74214c-b0f6-4825-aaab-915e6a61f4ed\n",
      "Job Status: job has successfully run\n",
      "7. Job IDL e1bf1262-14dd-47cc-b1fc-6ed15f5f9152\n",
      "Job Status: job has successfully run\n",
      "8. Job IDL 5a49bd97-e241-4a52-b195-d3be443d7227\n",
      "Job Status: job has successfully run\n",
      "\n",
      " qasm_simulator \n",
      "\n",
      "1. Job IDL b6c3f005-c261-4588-8799-927ea0624df8\n",
      "Job Status: job has successfully run\n",
      "2. Job IDL e3129698-a41d-4ca5-8832-95ef851deea8\n",
      "Job Status: job has successfully run\n",
      "3. Job IDL 53531fa2-156d-4154-b354-74dc41b4f588\n",
      "Job Status: job has successfully run\n",
      "4. Job IDL 9e8b5231-910e-4bc8-9339-524d703b963a\n",
      "Job Status: job has successfully run\n",
      "5. Job IDL 1f3e4e4f-4af5-4a2e-a874-d946656a366b\n",
      "Job Status: job has successfully run\n",
      "6. Job IDL 5df06276-ae1b-44fc-a0b9-33316604b380\n",
      "Job Status: job has successfully run\n",
      "7. Job IDL 2a2d3437-10dd-43e9-be32-9abcbad56c4c\n",
      "Job Status: job has successfully run\n",
      "8. Job IDL 41b3dec7-eb01-453b-a224-e644f3f817be\n",
      "Job Status: job has successfully run\n",
      "\n",
      " qasm_simulator(ibmq_manila) \n",
      "\n",
      "1. Job IDL b21617a3-2d3d-4e26-861b-3daf9424c6b1\n",
      "Job Status: job has successfully run\n",
      "2. Job IDL 00f5c358-c492-4cea-8286-4168afc59717\n",
      "Job Status: job has successfully run\n",
      "3. Job IDL 3d4a0b2c-a4cd-4533-9db3-eb541101102b\n",
      "Job Status: job has successfully run\n",
      "4. Job IDL 67304993-018d-4f99-9630-b33c7ccfa0d0\n",
      "Job Status: job has successfully run\n",
      "5. Job IDL b3887280-d68b-4085-b5d3-5332cf80da64\n",
      "Job Status: job has successfully run\n",
      "6. Job IDL e3c73ea4-a802-494f-9091-61fac4c272c6\n",
      "Job Status: job has successfully run\n",
      "7. Job IDL dd1f3a36-b49e-4711-b0be-bfc701485e61\n",
      "Job Status: job has successfully run\n",
      "8. Job IDL 12274624-fa24-4e05-a169-9b48523a7ff9\n",
      "Job Status: job has successfully run\n",
      "\n",
      " qasm_simulator \n",
      "\n",
      "1. Job IDL ca499c91-2a0f-4540-886f-f2137465aed6\n",
      "Job Status: job has successfully run\n",
      "2. Job IDL 6254cdf4-0ce2-4b45-b2e4-2a944bf8c42f\n",
      "Job Status: job has successfully run\n",
      "3. Job IDL 3549d313-2738-44b2-931b-3db087b2e10b\n",
      "Job Status: job has successfully run\n",
      "4. Job IDL 3f8bbc54-a066-481d-9b6a-42db221254a5\n",
      "Job Status: job has successfully run\n",
      "5. Job IDL a9668939-929b-4cbe-bf81-f46a7e41aecf\n",
      "Job Status: job has successfully run\n",
      "6. Job IDL 5c048e53-8bd1-46f9-9fa0-0f92e6e6fb31\n",
      "Job Status: job has successfully run\n",
      "7. Job IDL 57f0d38c-4762-4980-9a49-0ce96ee52e86\n",
      "Job Status: job has successfully run\n",
      "8. Job IDL 1b9a90b0-c865-4fd1-95a9-a5a9c697eb19\n",
      "Job Status: job has successfully run\n",
      "\n",
      " qasm_simulator(ibmq_manila) \n",
      "\n",
      "1. Job IDL ff7411a6-ac39-4567-9eb3-ebda2776c25b\n",
      "Job Status: job has successfully run\n",
      "2. Job IDL f94e6356-77f5-4d49-bbe5-5fc9f9001bbb\n",
      "Job Status: job has successfully run\n",
      "3. Job IDL c34281ed-3bbb-4be9-8b41-ccb46ba709c7\n",
      "Job Status: job has successfully run\n",
      "4. Job IDL 95413f49-0d33-47ca-bb44-731148007191\n",
      "Job Status: job has successfully run\n",
      "5. Job IDL 8df87241-f6f5-4b62-b514-df8525cabd93\n"
     ]
    },
    {
     "name": "stdout",
     "output_type": "stream",
     "text": [
      "Job Status: job has successfully run\n",
      "6. Job IDL fc883a5a-e7f2-4e15-9deb-ef1160b3bbc4\n",
      "Job Status: job has successfully run\n",
      "7. Job IDL d63d5796-823d-4bf6-b7b6-f21511e5b258\n",
      "Job Status: job has successfully run\n",
      "8. Job IDL 1fabe71f-71d0-45b3-a9b2-d8b3db80c293\n",
      "Job Status: job has successfully run\n",
      "\n",
      " qasm_simulator \n",
      "\n",
      "1. Job IDL 773e651b-dd25-4f56-8763-acc821700374\n",
      "Job Status: job has successfully run\n",
      "2. Job IDL ac9592c5-1a2f-4796-b2bc-b5f33a979ac7\n",
      "Job Status: job has successfully run\n",
      "3. Job IDL 60d10e6f-f030-4299-86f9-d4948e00e3b6\n",
      "Job Status: job has successfully run\n",
      "4. Job IDL 23803959-c630-491c-b6b5-6ae8d778527a\n",
      "Job Status: job has successfully run\n",
      "5. Job IDL 7c24b4e2-f855-4d59-a92b-af03d43e0b35\n",
      "Job Status: job has successfully run\n",
      "6. Job IDL bc28ee5c-f73b-4ad2-978c-50aabf8dbe5b\n",
      "Job Status: job has successfully run\n",
      "7. Job IDL 4d595f36-9948-4255-93a2-386f388dac61\n",
      "Job Status: job has successfully run\n",
      "8. Job IDL aaf939a0-5e72-4554-bf8e-ad3e572836ad\n",
      "Job Status: job has successfully run\n",
      "\n",
      " qasm_simulator(ibmq_manila) \n",
      "\n",
      "1. Job IDL 69da1e4d-8e80-4149-bbc6-c80efed998d8\n",
      "Job Status: job has successfully run\n",
      "2. Job IDL 384fb30f-2cd1-4ab9-9e92-43677ef67a32\n",
      "Job Status: job has successfully run\n",
      "3. Job IDL 0f24bc96-e7c2-4843-a887-369ea406ffde\n",
      "Job Status: job has successfully run\n",
      "4. Job IDL 255492fe-774c-423b-bbe9-bf2b7a5a19ee\n",
      "Job Status: job has successfully run\n",
      "5. Job IDL b4b38ac8-1548-4fbb-ad2a-f077c12dea81\n",
      "Job Status: job has successfully run\n",
      "6. Job IDL 919581a3-0265-4919-82c9-ff66f8f70bfb\n",
      "Job Status: job has successfully run\n",
      "7. Job IDL c8440f40-58e7-40e8-9a9a-9efcad7c3967\n",
      "Job Status: job has successfully run\n",
      "8. Job IDL 34318f8f-0799-4d16-a94c-34b20f00fb7b\n",
      "Job Status: job has successfully run\n",
      "\n",
      " qasm_simulator \n",
      "\n",
      "1. Job IDL cc0cd5c3-d449-4a81-af0d-9dabc1405864\n",
      "Job Status: job has successfully run\n",
      "2. Job IDL 9b307a12-528c-4e05-984f-591510b31bc7\n",
      "Job Status: job has successfully run\n",
      "3. Job IDL 193b7f47-41f9-46c5-9c1b-95bc8aa51ad1\n",
      "Job Status: job has successfully run\n",
      "4. Job IDL 018615b0-c345-48e8-9d23-07f8f08fdcab\n",
      "Job Status: job has successfully run\n",
      "5. Job IDL dfeb69f8-c0bc-41e5-b5f4-d07daf88e8b0\n",
      "Job Status: job has successfully run\n",
      "6. Job IDL 8ba25647-4786-4250-ab4c-d953708c3c90\n",
      "Job Status: job has successfully run\n",
      "7. Job IDL cc5f91f2-7905-48e2-9828-4c5966ca4831\n",
      "Job Status: job has successfully run\n",
      "8. Job IDL e66c65ff-764e-4dcf-bffe-6b370861b2c9\n",
      "Job Status: job has successfully run\n",
      "\n",
      " qasm_simulator(ibmq_manila) \n",
      "\n",
      "1. Job IDL 621189a6-f891-4f63-a0b4-6ca987ab9585\n",
      "Job Status: job has successfully run\n",
      "2. Job IDL 0e0f5d62-2475-4775-b3b1-313db1068b07\n",
      "Job Status: job has successfully run\n",
      "3. Job IDL a1584263-12d4-4b83-9ae8-c56570e6c486\n",
      "Job Status: job has successfully run\n",
      "4. Job IDL 763bd9c9-fd8b-43a8-8587-15f0bc8ca724\n",
      "Job Status: job has successfully run\n",
      "5. Job IDL e87926b7-f68c-49de-b442-3855358f6040\n",
      "Job Status: job has successfully run\n",
      "6. Job IDL 895ad282-228c-45aa-8360-777b3da001fb\n",
      "Job Status: job has successfully run\n",
      "7. Job IDL b89572ab-0d86-4d64-947d-34cd2cf1345f\n",
      "Job Status: job has successfully run\n",
      "8. Job IDL 3b8ba562-21ca-4248-9f8f-5913738da50c\n",
      "Job Status: job has successfully run\n",
      "\n",
      " qasm_simulator \n",
      "\n",
      "1. Job IDL e6efa520-8cac-4c67-9414-013bed9d1cce\n",
      "Job Status: job has successfully run\n",
      "2. Job IDL 560e0390-23c1-4777-b4fe-069dff5f1b48\n",
      "Job Status: job has successfully run\n",
      "3. Job IDL 677b978e-d784-4671-b55b-b924d6a1a05f\n",
      "Job Status: job has successfully run\n",
      "4. Job IDL eeee1f7b-f131-4034-a712-d339efa92e8f\n",
      "Job Status: job has successfully run\n",
      "5. Job IDL de5191cc-7050-4de0-9aef-c8784ee4b95e\n",
      "Job Status: job has successfully run\n",
      "6. Job IDL 4a2b3b32-7141-46f8-994d-400158f9153a\n",
      "Job Status: job has successfully run\n",
      "7. Job IDL 7ff67721-719d-4e34-b473-785eb3fe7b31\n",
      "Job Status: job has successfully run\n",
      "8. Job IDL b4ec7ed0-1c45-47fe-870e-da5ff304d610\n",
      "Job Status: job has successfully run\n",
      "\n",
      " qasm_simulator(ibmq_manila) \n",
      "\n",
      "1. Job IDL 3707b842-09d5-42be-a150-8af6754a9215\n",
      "Job Status: job has successfully run\n",
      "2. Job IDL 5865ff95-6287-4d43-bb49-7b526fc2a58d\n",
      "Job Status: job has successfully run\n",
      "3. Job IDL fea315ec-3768-487b-a86b-be9d6ecc960f\n",
      "Job Status: job has successfully run\n",
      "4. Job IDL e34cfa00-7ebb-419f-b682-6905bec05446\n",
      "Job Status: job has successfully run\n",
      "5. Job IDL 5a7196d9-9b4a-4fbd-890b-68e102d5cd30\n",
      "Job Status: job has successfully run\n",
      "6. Job IDL b93a8f7c-275d-42a2-a52d-004376e8f8ab\n",
      "Job Status: job has successfully run\n",
      "7. Job IDL ef9e408b-c926-4e58-81e8-96a45d2f148f\n",
      "Job Status: job has successfully run\n",
      "8. Job IDL 2ca59ba0-9cc8-4f93-ae9d-37dcf0b8d1da\n",
      "Job Status: job has successfully run\n",
      "\n",
      " qasm_simulator \n",
      "\n",
      "1. Job IDL bb7f5478-f687-462f-8426-c5f201326043\n",
      "Job Status: job has successfully run\n",
      "2. Job IDL 769190ec-440c-43a3-94a3-4e0c3417df1b\n",
      "Job Status: job has successfully run\n",
      "3. Job IDL 3b771b46-8bd3-4879-a456-6f0ec9ba3978\n",
      "Job Status: job has successfully run\n",
      "4. Job IDL 1de4c06b-23c9-4647-996f-c6f2a546be6a\n",
      "Job Status: job has successfully run\n",
      "5. Job IDL b4b0a2bc-b2b4-4be0-9f40-8c69002b3e24\n",
      "Job Status: job has successfully run\n",
      "6. Job IDL 770b190b-878e-4fa5-95e8-f7ac897f7dbb\n",
      "Job Status: job has successfully run\n",
      "7. Job IDL 7e91dfbc-06cb-4ed8-9ab6-9dcabbf94bd9\n",
      "Job Status: job has successfully run\n",
      "8. Job IDL 423170fa-6475-4d8d-8fb5-1956d5b1bed2\n",
      "Job Status: job has successfully run\n",
      "\n",
      " qasm_simulator(ibmq_manila) \n",
      "\n",
      "1. Job IDL 657ab536-e439-40ea-a126-d0961ce212fb\n",
      "Job Status: job has successfully run\n",
      "2. Job IDL e922768f-5e74-4d88-b48b-0dcbe5b83aaa\n",
      "Job Status: job has successfully run\n",
      "3. Job IDL 2c8fd019-aacb-4893-8fda-dfb9b588add2\n",
      "Job Status: job has successfully run\n",
      "4. Job IDL 1fe07fe9-a12b-472a-8847-6d42859638bd\n",
      "Job Status: job has successfully run\n",
      "5. Job IDL 85cf5753-0c6c-4450-9009-21f051676b7d\n",
      "Job Status: job has successfully run\n",
      "6. Job IDL 7598102f-952a-48e0-af86-91fcc436ea21\n",
      "Job Status: job has successfully run\n",
      "7. Job IDL 1b190acd-976b-4b6b-bc0d-99404d3ac040\n",
      "Job Status: job has successfully run\n",
      "8. Job IDL 2e44aaa7-bbb2-492e-a79b-fb9390313856\n",
      "Job Status: job has successfully run\n",
      "\n",
      " qasm_simulator \n",
      "\n",
      "1. Job IDL 6e5ac95b-78ee-4ad1-b56b-50aab32ebc08\n",
      "Job Status: job has successfully run\n",
      "2. Job IDL ca19475c-ed28-4fe2-9b27-af7716348ab4\n",
      "Job Status: job has successfully run\n",
      "3. Job IDL 6307c3f7-4875-4598-8eac-daef226a8ba6\n",
      "Job Status: job has successfully run\n",
      "4. Job IDL 3fe3e823-5988-40f0-85b7-46e38e1df97c\n",
      "Job Status: job has successfully run\n",
      "5. Job IDL 4d7011c1-4d1c-4f18-9993-6683f6f4995c\n",
      "Job Status: job has successfully run\n",
      "6. Job IDL ceceb099-58fc-4d3d-b278-b4ca981ff8f7\n",
      "Job Status: job has successfully run\n",
      "7. Job IDL 9d18e3d6-6de3-484c-bc7e-fa8938c31cb9\n",
      "Job Status: job has successfully run\n",
      "8. Job IDL 751c49ea-4d0d-4f6c-93cf-407fb71cea56\n",
      "Job Status: job has successfully run\n",
      "\n",
      " qasm_simulator(ibmq_manila) \n",
      "\n",
      "1. Job IDL 3540775b-3590-4f31-9f36-6cfc0c937cd2\n",
      "Job Status: job has successfully run\n",
      "2. Job IDL 1b2ef6fa-4eea-4ac6-9359-a9a29079816f\n",
      "Job Status: job has successfully run\n",
      "3. Job IDL 3c0044d1-5ffd-4008-87be-e12db6ca5e01\n",
      "Job Status: job has successfully run\n",
      "4. Job IDL a07dc462-93e8-485c-964a-a2e3a293c64b\n",
      "Job Status: job has successfully run\n",
      "5. Job IDL d57bc5c8-194b-4a32-a6fb-4037491394e8\n",
      "Job Status: job has successfully run\n",
      "6. Job IDL 20cd6c62-ab38-4ed7-84f5-2e5d3f158014\n",
      "Job Status: job has successfully run\n",
      "7. Job IDL 868932e6-9c2f-45e8-9c9c-40b670f14af6\n",
      "Job Status: job has successfully run\n",
      "8. Job IDL 86a77d81-d402-4033-97fb-5c65da433793\n",
      "Job Status: job has successfully run\n",
      "\n",
      " qasm_simulator \n",
      "\n",
      "1. Job IDL 88ffb84e-a2cf-489e-a217-395ce230569a\n",
      "Job Status: job has successfully run\n",
      "2. Job IDL adb11a2b-b79a-43ba-84e4-2f5062bfb384\n",
      "Job Status: job has successfully run\n",
      "3. Job IDL 764dab74-2a72-4667-acae-e381c3a172cc\n",
      "Job Status: job has successfully run\n",
      "4. Job IDL ee170e20-67d7-435a-834d-756fcacf28e1\n",
      "Job Status: job has successfully run\n",
      "5. Job IDL ccc47ec6-4045-485e-b66e-c518efcf128b\n",
      "Job Status: job has successfully run\n",
      "6. Job IDL af86eec6-51d5-4790-8b6a-11520d32c199\n",
      "Job Status: job has successfully run\n",
      "7. Job IDL fbd77d94-6321-4bfe-bc02-09f051ff7523\n",
      "Job Status: job has successfully run\n",
      "8. Job IDL 43a296e1-eaf6-4dd3-a598-0518b22c4016\n",
      "Job Status: job has successfully run\n",
      "\n",
      " qasm_simulator(ibmq_manila) \n",
      "\n",
      "1. Job IDL 1bbac619-3eab-47ed-9bde-579ac5d568e6\n",
      "Job Status: job has successfully run\n",
      "2. Job IDL 7ea29ea4-28e0-40f6-82ce-a265a2785cdf\n"
     ]
    },
    {
     "name": "stdout",
     "output_type": "stream",
     "text": [
      "Job Status: job has successfully run\n",
      "3. Job IDL 1f4c0e7c-3951-47ee-9d30-90f80258417d\n",
      "Job Status: job has successfully run\n",
      "4. Job IDL 4abb8588-1a8c-4c4f-bf7c-69a48763de06\n",
      "Job Status: job has successfully run\n",
      "5. Job IDL 9440294c-f1b3-4fe7-924b-093c20fc0723\n",
      "Job Status: job has successfully run\n",
      "6. Job IDL 864e52cc-3396-4728-9faa-dea78ca63c06\n",
      "Job Status: job has successfully run\n",
      "7. Job IDL 4de46427-f737-4e67-8650-f1c147dd4813\n",
      "Job Status: job has successfully run\n",
      "8. Job IDL 40f8f6b4-feac-4431-988f-5474dcbcfdca\n",
      "Job Status: job has successfully run\n"
     ]
    },
    {
     "data": {
      "image/png": "[encoded data removed]",
      "text/plain": [
       "<Figure size 432x288 with 1 Axes>"
      ]
     },
     "metadata": {
      "needs_background": "light"
     },
     "output_type": "display_data"
    }
   ],
   "source": [
    "def get_fidelity(num_trotter_steps):\n",
    "    # Initialize quantum circuit for 3 qubits\n",
    "    qr = QuantumRegister(5)\n",
    "    circ = QuantumCircuit(qr)\n",
    "\n",
    "    # Prepare initial state (remember we are only evolving 3 of the 7 qubits on manila qubits (q_5, q_3, q_1) corresponding to the state |110>)\n",
    "    circ.x([q_regs[2], q_regs[1]])  # For example this could be (q_regs=[2, 1, 0] which corresponds to => |110>)\n",
    "\n",
    "    # Simulate time evolution under H_heis3 Hamiltonian\n",
    "    for _ in range(num_trotter_steps):\n",
    "        circ.append(Trot_gate, q_regs)\n",
    "\n",
    "    # Evaluate simulation at target_time (t=pi) meaning each trotter step evolves pi/trotter_steps in time\n",
    "    circ = circ.bind_parameters({t: target_time/num_trotter_steps})\n",
    "\n",
    "    # Generate state tomography circuits to evaluate fidelity of simulation\n",
    "    st_qcs = state_tomography_circuits(circ, q_regs)\n",
    "    \n",
    "    all_jobs = [setup_jobs(backend) for backend in backends]\n",
    "    fids1 = get_fids(all_jobs[0])\n",
    "    fids2 = get_fids(all_jobs[1])\n",
    "    \n",
    "    return np.mean(fids1), np.mean(fids2)\n",
    "\n",
    "trot_steps = np.linspace(1, 12, 12)\n",
    "noiseless_fid, noise_fid = [], []\n",
    "for n in trot_steps:\n",
    "    result = get_fidelity(int(n))\n",
    "    noiseless_fid.append(result[0])\n",
    "    noise_fid.append(result[1])\n",
    "\n",
    "plt.plot(trot_steps, noiseless_fid)   \n",
    "plt.show()"
   ]
  },
  {
   "cell_type": "code",
   "execution_count": 24,
   "id": "abe50cec",
   "metadata": {},
   "outputs": [
    {
     "data": {
      "text/plain": [
       "<matplotlib.collections.PathCollection at 0x12900e150>"
      ]
     },
     "execution_count": 24,
     "metadata": {},
     "output_type": "execute_result"
    },
    {
     "data": {
      "image/png": "[encoded data removed]",
      "text/plain": [
       "<Figure size 432x288 with 1 Axes>"
      ]
     },
     "metadata": {
      "needs_background": "light"
     },
     "output_type": "display_data"
    }
   ],
   "source": [
    "plt.scatter(trot_steps, noiseless_fid)"
   ]
  },
  {
   "cell_type": "code",
   "execution_count": 26,
   "id": "4a92562c",
   "metadata": {},
   "outputs": [
    {
     "data": {
      "text/plain": [
       "[<matplotlib.lines.Line2D at 0x12b5f6e50>]"
      ]
     },
     "execution_count": 26,
     "metadata": {},
     "output_type": "execute_result"
    },
    {
     "data": {
      "image/png": "[encoded data removed]",
      "text/plain": [
       "<Figure size 432x288 with 1 Axes>"
      ]
     },
     "metadata": {
      "needs_background": "light"
     },
     "output_type": "display_data"
    }
   ],
   "source": [
    "plt.plot(trot_steps, noise_fid)"
   ]
  },
  {
   "cell_type": "code",
   "execution_count": null,
   "id": "4a81092b",
   "metadata": {},
   "outputs": [],
   "source": []
  }
 ],
 "metadata": {
  "kernelspec": {
   "display_name": "Python 3",
   "language": "python",
   "name": "python3"
  },
  "language_info": {
   "codemirror_mode": {
    "name": "ipython",
    "version": 3
   },
   "file_extension": ".py",
   "mimetype": "text/x-python",
   "name": "python",
   "nbconvert_exporter": "python",
   "pygments_lexer": "ipython3",
   "version": "3.7.9"
  },
  "toc-autonumbering": false,
  "toc-showcode": false,
  "toc-showmarkdowntxt": false,
  "toc-showtags": false,
  "widgets": {
   "application/vnd.jupyter.widget-state+json": {
    "state": {
     "149b8ba8786546818eed46291a1404b2": {
      "model_module": "@jupyter-widgets/controls",
      "model_module_version": "1.5.0",
      "model_name": "DescriptionStyleModel",
      "state": {
       "description_width": ""
      }
     },
     "1dadb1b8b6a34bd182c2c0cd4b473ea3": {
      "model_module": "@jupyter-widgets/controls",
      "model_module_version": "1.5.0",
      "model_name": "GridBoxModel",
      "state": {
       "children": [
        "IPY_MODEL_88864c10bf0b4cfeaa361c6c60123d5d"
       ],
       "layout": "IPY_MODEL_86e1caf1f4a54ee4aff27ac9f3bfca5a"
      }
     },
     "4e9eb1efc2d646b9a7c090ed9ee0d876": {
      "model_module": "@jupyter-widgets/controls",
      "model_module_version": "1.5.0",
      "model_name": "DescriptionStyleModel",
      "state": {
       "description_width": ""
      }
     },
     "4fa45e29693d4cec980d39f6392ea166": {
      "model_module": "@jupyter-widgets/base",
      "model_module_version": "1.2.0",
      "model_name": "LayoutModel",
      "state": {}
     },
     "512d9fceaeb94052a91e432bfd4ccfb1": {
      "model_module": "@jupyter-widgets/base",
      "model_module_version": "1.2.0",
      "model_name": "LayoutModel",
      "state": {
       "width": "95px"
      }
     },
     "58b3484c14f548f5aa8b72a607f7cc04": {
      "model_module": "@jupyter-widgets/controls",
      "model_module_version": "1.5.0",
      "model_name": "HTMLModel",
      "state": {
       "layout": "IPY_MODEL_4fa45e29693d4cec980d39f6392ea166",
       "style": "IPY_MODEL_149b8ba8786546818eed46291a1404b2",
       "value": "<h5>Message</h5>"
      }
     },
     "626c3254661b447b8f71795c23322bd1": {
      "model_module": "@jupyter-widgets/base",
      "model_module_version": "1.2.0",
      "model_name": "LayoutModel",
      "state": {
       "margin": "0px 0px 0px 37px",
       "width": "600px"
      }
     },
     "6426114ac31f4956b39774d0451e9513": {
      "model_module": "@jupyter-widgets/base",
      "model_module_version": "1.2.0",
      "model_name": "LayoutModel",
      "state": {
       "grid_area": "right",
       "padding": "0px 0px 0px 0px",
       "width": "70px"
      }
     },
     "69ee4d185ad848039897ffd528a9233f": {
      "model_module": "@jupyter-widgets/controls",
      "model_module_version": "1.5.0",
      "model_name": "HTMLModel",
      "state": {
       "layout": "IPY_MODEL_fc4a86dc47b74aaa9e83ce4ced73db2d",
       "style": "IPY_MODEL_e7850bef7b024d828c047d5e55c0aaf0",
       "value": "<h5>Backend</h5>"
      }
     },
     "6c50f47281954bb2909ea8edcb4178aa": {
      "model_module": "@jupyter-widgets/base",
      "model_module_version": "1.2.0",
      "model_name": "LayoutModel",
      "state": {
       "width": "190px"
      }
     },
     "86e1caf1f4a54ee4aff27ac9f3bfca5a": {
      "model_module": "@jupyter-widgets/base",
      "model_module_version": "1.2.0",
      "model_name": "LayoutModel",
      "state": {
       "grid_template_areas": "\n                                       \". . . . right \"\n                                        ",
       "grid_template_columns": "20% 20% 20% 20% 20%",
       "width": "100%"
      }
     },
     "88864c10bf0b4cfeaa361c6c60123d5d": {
      "model_module": "@jupyter-widgets/controls",
      "model_module_version": "1.5.0",
      "model_name": "ButtonModel",
      "state": {
       "button_style": "primary",
       "description": "Clear",
       "layout": "IPY_MODEL_6426114ac31f4956b39774d0451e9513",
       "style": "IPY_MODEL_bf1e5b872fb544299503a9e357427215"
      }
     },
     "8dcdcfc3b789418582e20e364db73265": {
      "model_module": "@jupyter-widgets/controls",
      "model_module_version": "1.5.0",
      "model_name": "HTMLModel",
      "state": {
       "layout": "IPY_MODEL_ca716d13739c4d6889e5fd2a0c448118",
       "style": "IPY_MODEL_4e9eb1efc2d646b9a7c090ed9ee0d876",
       "value": "<p style='font-family: IBM Plex Sans, Arial, Helvetica, sans-serif; font-size: 20px; font-weight: medium;'>Circuit Properties</p>"
      }
     },
     "9007ca3042db4beba50eedc5f9d9122c": {
      "model_module": "@jupyter-widgets/controls",
      "model_module_version": "1.5.0",
      "model_name": "HTMLModel",
      "state": {
       "layout": "IPY_MODEL_9d050cc909524c45b00e8ad9f9f3f1b7",
       "style": "IPY_MODEL_e0c2cf211d5a4ada8b22def7ae055d94",
       "value": "<h5>Queue</h5>"
      }
     },
     "9d050cc909524c45b00e8ad9f9f3f1b7": {
      "model_module": "@jupyter-widgets/base",
      "model_module_version": "1.2.0",
      "model_name": "LayoutModel",
      "state": {
       "width": "70px"
      }
     },
     "b06b733dbe4b4ccda6702c92307cf30c": {
      "model_module": "@jupyter-widgets/controls",
      "model_module_version": "1.5.0",
      "model_name": "HBoxModel",
      "state": {
       "children": [
        "IPY_MODEL_b2f978f61480488ca156a9c68bc803f2",
        "IPY_MODEL_69ee4d185ad848039897ffd528a9233f",
        "IPY_MODEL_d7ca7d550d8746bca203466ce46cd9da",
        "IPY_MODEL_9007ca3042db4beba50eedc5f9d9122c",
        "IPY_MODEL_58b3484c14f548f5aa8b72a607f7cc04"
       ],
       "layout": "IPY_MODEL_626c3254661b447b8f71795c23322bd1"
      }
     },
     "b2f978f61480488ca156a9c68bc803f2": {
      "model_module": "@jupyter-widgets/controls",
      "model_module_version": "1.5.0",
      "model_name": "HTMLModel",
      "state": {
       "layout": "IPY_MODEL_6c50f47281954bb2909ea8edcb4178aa",
       "style": "IPY_MODEL_f40af09eb2774522b4cf3473de746fd3",
       "value": "<h5>Job ID</h5>"
      }
     },
     "bf1e5b872fb544299503a9e357427215": {
      "model_module": "@jupyter-widgets/controls",
      "model_module_version": "1.5.0",
      "model_name": "ButtonStyleModel",
      "state": {}
     },
     "c53b83133b8f42859339e481cde62c20": {
      "model_module": "@jupyter-widgets/controls",
      "model_module_version": "1.5.0",
      "model_name": "DescriptionStyleModel",
      "state": {
       "description_width": ""
      }
     },
     "ca716d13739c4d6889e5fd2a0c448118": {
      "model_module": "@jupyter-widgets/base",
      "model_module_version": "1.2.0",
      "model_name": "LayoutModel",
      "state": {
       "margin": "0px 0px 10px 0px"
      }
     },
     "d7ca7d550d8746bca203466ce46cd9da": {
      "model_module": "@jupyter-widgets/controls",
      "model_module_version": "1.5.0",
      "model_name": "HTMLModel",
      "state": {
       "layout": "IPY_MODEL_512d9fceaeb94052a91e432bfd4ccfb1",
       "style": "IPY_MODEL_c53b83133b8f42859339e481cde62c20",
       "value": "<h5>Status</h5>"
      }
     },
     "e0c2cf211d5a4ada8b22def7ae055d94": {
      "model_module": "@jupyter-widgets/controls",
      "model_module_version": "1.5.0",
      "model_name": "DescriptionStyleModel",
      "state": {
       "description_width": ""
      }
     },
     "e7850bef7b024d828c047d5e55c0aaf0": {
      "model_module": "@jupyter-widgets/controls",
      "model_module_version": "1.5.0",
      "model_name": "DescriptionStyleModel",
      "state": {
       "description_width": ""
      }
     },
     "f40af09eb2774522b4cf3473de746fd3": {
      "model_module": "@jupyter-widgets/controls",
      "model_module_version": "1.5.0",
      "model_name": "DescriptionStyleModel",
      "state": {
       "description_width": ""
      }
     },
     "fc4a86dc47b74aaa9e83ce4ced73db2d": {
      "model_module": "@jupyter-widgets/base",
      "model_module_version": "1.2.0",
      "model_name": "LayoutModel",
      "state": {
       "width": "145px"
      }
     }
    },
    "version_major": 2,
    "version_minor": 0
   }
  }
 },
 "nbformat": 4,
 "nbformat_minor": 5
}
